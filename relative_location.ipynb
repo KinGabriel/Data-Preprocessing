{
 "cells": [
  {
   "cell_type": "code",
   "id": "initial_id",
   "metadata": {
    "ExecuteTime": {
     "end_time": "2025-02-03T17:13:10.522857Z",
     "start_time": "2025-02-03T17:13:10.500906Z"
    }
   },
   "source": [
    "import numpy as np\n",
    "import pandas as pd\n",
    "import matplotlib.pyplot as plt\n",
    "data = pd.read_csv('bank_marketing_clean.csv')\n",
    "cpi = data['cons_price_idx']\n",
    "euribor = data['euribor_three_months']\n",
    "age = data['age']"
   ],
   "outputs": [],
   "execution_count": 136
  },
  {
   "cell_type": "code",
   "id": "843fbd0543327fee",
   "metadata": {
    "ExecuteTime": {
     "end_time": "2025-02-03T17:13:10.540089Z",
     "start_time": "2025-02-03T17:13:10.532296Z"
    }
   },
   "source": [
    "# compute for the quartile\n",
    "Q1 = cpi.quantile(0.25)\n",
    "Q2 = cpi.quantile(0.50)\n",
    "Q3 = cpi.quantile(0.75)\n",
    "print(Q1, Q2, Q3)"
   ],
   "outputs": [
    {
     "name": "stdout",
     "output_type": "stream",
     "text": [
      "93.075 93.749 93.994\n"
     ]
    }
   ],
   "execution_count": 137
  },
  {
   "cell_type": "code",
   "id": "836e1d240b1572a4",
   "metadata": {
    "ExecuteTime": {
     "end_time": "2025-02-03T17:13:10.564017Z",
     "start_time": "2025-02-03T17:13:10.558645Z"
    }
   },
   "source": [
    "# Compute for the percentile \n",
    "P1 = cpi.quantile(0.5) # 5th percentile for lower boundary values\n",
    "P2 = cpi.quantile(0.95)# 95th percentile for upper boundary values\n",
    "print(P1, P2)"
   ],
   "outputs": [
    {
     "name": "stdout",
     "output_type": "stream",
     "text": [
      "93.749 94.465\n"
     ]
    }
   ],
   "execution_count": 138
  },
  {
   "metadata": {
    "ExecuteTime": {
     "end_time": "2025-02-03T17:13:10.592622Z",
     "start_time": "2025-02-03T17:13:10.586601Z"
    }
   },
   "cell_type": "code",
   "source": [
    "# Get the interquartile range\n",
    "IQR = Q3 - Q1\n",
    "print(IQR)\n"
   ],
   "id": "c23487ff91a30629",
   "outputs": [
    {
     "name": "stdout",
     "output_type": "stream",
     "text": [
      "0.9189999999999969\n"
     ]
    }
   ],
   "execution_count": 139
  },
  {
   "metadata": {
    "ExecuteTime": {
     "end_time": "2025-02-03T17:13:10.615284Z",
     "start_time": "2025-02-03T17:13:10.611221Z"
    }
   },
   "cell_type": "code",
   "source": "# Graph for cons_price_idx",
   "id": "7499f18fb4367519",
   "outputs": [],
   "execution_count": 140
  },
  {
   "metadata": {
    "ExecuteTime": {
     "end_time": "2025-02-03T17:13:10.641411Z",
     "start_time": "2025-02-03T17:13:10.634722Z"
    }
   },
   "cell_type": "code",
   "source": [
    "# compute for the quartile\n",
    "Q1 = euribor.quantile(0.25)\n",
    "Q2 = euribor.quantile(0.50)\n",
    "Q3 = euribor.quantile(0.75)\n",
    "print(Q1, Q2, Q3)"
   ],
   "id": "92c0d5fc20d7c734",
   "outputs": [
    {
     "name": "stdout",
     "output_type": "stream",
     "text": [
      "1.344 4.857 4.961\n"
     ]
    }
   ],
   "execution_count": 141
  },
  {
   "metadata": {
    "ExecuteTime": {
     "end_time": "2025-02-03T17:13:10.666938Z",
     "start_time": "2025-02-03T17:13:10.660473Z"
    }
   },
   "cell_type": "code",
   "source": [
    "# Compute for the percentile \n",
    "P1 = euribor.quantile(0.5) # 5th percentile for lower boundary values\n",
    "P2 = euribor.quantile(0.95)# 95th percentile for upper boundary values\n",
    "print(P1, P2)"
   ],
   "id": "68231bdd40680877",
   "outputs": [
    {
     "name": "stdout",
     "output_type": "stream",
     "text": [
      "4.857 4.966\n"
     ]
    }
   ],
   "execution_count": 142
  },
  {
   "metadata": {
    "ExecuteTime": {
     "end_time": "2025-02-03T17:13:10.700848Z",
     "start_time": "2025-02-03T17:13:10.696402Z"
    }
   },
   "cell_type": "code",
   "source": [
    "# Get the interquartile range\n",
    "IQR = Q3 - Q1\n",
    "print(IQR)"
   ],
   "id": "6cc25dcb5790bdfa",
   "outputs": [
    {
     "name": "stdout",
     "output_type": "stream",
     "text": [
      "3.617\n"
     ]
    }
   ],
   "execution_count": 143
  },
  {
   "metadata": {
    "ExecuteTime": {
     "end_time": "2025-02-03T17:13:10.728034Z",
     "start_time": "2025-02-03T17:13:10.724529Z"
    }
   },
   "cell_type": "code",
   "source": "# Graph for euribor_three_months\n",
   "id": "b92539839f54f9e0",
   "outputs": [],
   "execution_count": 144
  },
  {
   "metadata": {
    "ExecuteTime": {
     "end_time": "2025-02-03T17:13:10.752842Z",
     "start_time": "2025-02-03T17:13:10.746320Z"
    }
   },
   "cell_type": "code",
   "source": [
    "# compute for the quartile \n",
    "Q1 = age.quantile(0.25)\n",
    "Q2 = age.quantile(0.50)\n",
    "Q3 = age.quantile(0.75)\n",
    "print(Q1, Q2, Q3)"
   ],
   "id": "1e77326e7903ecfb",
   "outputs": [
    {
     "name": "stdout",
     "output_type": "stream",
     "text": [
      "33.0 38.0 46.0\n"
     ]
    }
   ],
   "execution_count": 145
  },
  {
   "metadata": {
    "ExecuteTime": {
     "end_time": "2025-02-03T17:13:10.784867Z",
     "start_time": "2025-02-03T17:13:10.777938Z"
    }
   },
   "cell_type": "code",
   "source": [
    "# Compute for the percentile \n",
    "P1 = age.quantile(0.5) # 5th percentile for lower boundary values\n",
    "P2 = age.quantile(0.95)# 95th percentile for upper boundary values\n",
    "print(P1, P2)"
   ],
   "id": "8f895440b02a1178",
   "outputs": [
    {
     "name": "stdout",
     "output_type": "stream",
     "text": [
      "38.0 57.0\n"
     ]
    }
   ],
   "execution_count": 146
  },
  {
   "metadata": {
    "ExecuteTime": {
     "end_time": "2025-02-03T17:13:10.899840Z",
     "start_time": "2025-02-03T17:13:10.895271Z"
    }
   },
   "cell_type": "code",
   "source": [
    "# Get the interquartile range\n",
    "IQR = Q3 - Q1\n",
    "print(IQR)"
   ],
   "id": "79ff48907e97b97b",
   "outputs": [
    {
     "name": "stdout",
     "output_type": "stream",
     "text": [
      "13.0\n"
     ]
    }
   ],
   "execution_count": 147
  },
  {
   "metadata": {
    "ExecuteTime": {
     "end_time": "2025-02-03T17:13:10.985331Z",
     "start_time": "2025-02-03T17:13:10.981326Z"
    }
   },
   "cell_type": "code",
   "source": "# Graph for age\n",
   "id": "e0203c6f4f67c4d4",
   "outputs": [],
   "execution_count": 148
  }
 ],
 "metadata": {
  "kernelspec": {
   "display_name": "Python [conda env:base] *",
   "language": "python",
   "name": "conda-base-py"
  },
  "language_info": {
   "codemirror_mode": {
    "name": "ipython",
    "version": 3
   },
   "file_extension": ".py",
   "mimetype": "text/x-python",
   "name": "python",
   "nbconvert_exporter": "python",
   "pygments_lexer": "ipython3",
   "version": "3.12.7"
  }
 },
 "nbformat": 4,
 "nbformat_minor": 5
}
